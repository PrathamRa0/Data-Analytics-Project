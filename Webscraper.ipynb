{
 "cells": [
  {
   "cell_type": "code",
   "execution_count": 2,
   "id": "39617468",
   "metadata": {},
   "outputs": [
    {
     "name": "stdout",
     "output_type": "stream",
     "text": [
      "depressedpotato0001\n",
      "Abandoned by God\n",
      "[0]\n",
      "No new comments\n",
      "No new comments\n",
      "No new comments\n",
      "No new comments\n",
      "No new comments\n",
      "No new comments\n",
      "No new comments\n",
      "No new comments\n",
      "No new comments\n",
      "No new comments\n",
      "No new comments\n",
      "No new comments\n",
      "No new comments\n",
      "No new comments\n",
      "No new comments\n",
      "No new comments\n",
      "No new comments\n",
      "No new comments\n",
      "No new comments\n",
      "No new comments\n",
      "No new comments\n",
      "No new comments\n",
      "No new comments\n",
      "No new comments\n",
      "No new comments\n",
      "No new comments\n",
      "No new comments\n",
      "No new comments\n",
      "No new comments\n",
      "No new comments\n",
      "No new comments\n",
      "No new comments\n",
      "No new comments\n",
      "No new comments\n",
      "No new comments\n",
      "No new comments\n",
      "No new comments\n",
      "No new comments\n",
      "No new comments\n",
      "No new comments\n",
      "No new comments\n",
      "No new comments\n",
      "No new comments\n",
      "No new comments\n",
      "No new comments\n",
      "No new comments\n",
      "No new comments\n",
      "No new comments\n",
      "No new comments\n",
      "No new comments\n",
      "No new comments\n",
      "LunaTheMoonSpirit\n",
      "Fuck living I don't want help\n",
      "[1]\n"
     ]
    },
    {
     "name": "stderr",
     "output_type": "stream",
     "text": [
      "11/17/2022 10:59:59 - INFO - happytransformer.happy_transformer -   Using model: cpu\n"
     ]
    },
    {
     "name": "stdout",
     "output_type": "stream",
     "text": [
      "0.9977759718894958\n",
      "parzziii\n",
      "i want to kill myself\n",
      "[1]\n"
     ]
    },
    {
     "name": "stderr",
     "output_type": "stream",
     "text": [
      "11/17/2022 11:00:07 - INFO - happytransformer.happy_transformer -   Using model: cpu\n"
     ]
    },
    {
     "name": "stdout",
     "output_type": "stream",
     "text": [
      "0.9981557726860046\n",
      "No new comments\n",
      "No new comments\n",
      "No new comments\n",
      "No new comments\n",
      "No new comments\n"
     ]
    },
    {
     "ename": "KeyboardInterrupt",
     "evalue": "",
     "output_type": "error",
     "traceback": [
      "\u001b[1;31m---------------------------------------------------------------------------\u001b[0m",
      "\u001b[1;31mKeyboardInterrupt\u001b[0m                         Traceback (most recent call last)",
      "Cell \u001b[1;32mIn [2], line 17\u001b[0m\n\u001b[0;32m     14\u001b[0m old \u001b[39m=\u001b[39m \u001b[39mNone\u001b[39;00m\n\u001b[0;32m     16\u001b[0m \u001b[39mwhile\u001b[39;00m \u001b[39mKeyboardInterrupt\u001b[39;00m:\n\u001b[1;32m---> 17\u001b[0m     submission \u001b[39m=\u001b[39m [i \u001b[39mfor\u001b[39;00m i \u001b[39min\u001b[39;00m reddit\u001b[39m.\u001b[39msubreddit(\u001b[39m'\u001b[39m\u001b[39mSuicideWatch\u001b[39m\u001b[39m'\u001b[39m)\u001b[39m.\u001b[39mnew(limit \u001b[39m=\u001b[39m \u001b[39m2\u001b[39m)][\u001b[39m0\u001b[39m]\n\u001b[0;32m     19\u001b[0m     \u001b[39mif\u001b[39;00m submission \u001b[39m!=\u001b[39m old:\n\u001b[0;32m     20\u001b[0m         sent \u001b[39m=\u001b[39m submission\u001b[39m.\u001b[39mtitle \u001b[39m+\u001b[39m \u001b[39m'\u001b[39m\u001b[39m \u001b[39m\u001b[39m'\u001b[39m \u001b[39m+\u001b[39m submission\u001b[39m.\u001b[39mselftext\n",
      "Cell \u001b[1;32mIn [2], line 17\u001b[0m, in \u001b[0;36m<listcomp>\u001b[1;34m(.0)\u001b[0m\n\u001b[0;32m     14\u001b[0m old \u001b[39m=\u001b[39m \u001b[39mNone\u001b[39;00m\n\u001b[0;32m     16\u001b[0m \u001b[39mwhile\u001b[39;00m \u001b[39mKeyboardInterrupt\u001b[39;00m:\n\u001b[1;32m---> 17\u001b[0m     submission \u001b[39m=\u001b[39m [i \u001b[39mfor\u001b[39;00m i \u001b[39min\u001b[39;00m reddit\u001b[39m.\u001b[39msubreddit(\u001b[39m'\u001b[39m\u001b[39mSuicideWatch\u001b[39m\u001b[39m'\u001b[39m)\u001b[39m.\u001b[39mnew(limit \u001b[39m=\u001b[39m \u001b[39m2\u001b[39m)][\u001b[39m0\u001b[39m]\n\u001b[0;32m     19\u001b[0m     \u001b[39mif\u001b[39;00m submission \u001b[39m!=\u001b[39m old:\n\u001b[0;32m     20\u001b[0m         sent \u001b[39m=\u001b[39m submission\u001b[39m.\u001b[39mtitle \u001b[39m+\u001b[39m \u001b[39m'\u001b[39m\u001b[39m \u001b[39m\u001b[39m'\u001b[39m \u001b[39m+\u001b[39m submission\u001b[39m.\u001b[39mselftext\n",
      "File \u001b[1;32mc:\\Users\\Rohan\\AppData\\Local\\Programs\\Python\\Python310\\lib\\site-packages\\praw\\models\\listing\\generator.py:63\u001b[0m, in \u001b[0;36mListingGenerator.__next__\u001b[1;34m(self)\u001b[0m\n\u001b[0;32m     60\u001b[0m     \u001b[39mraise\u001b[39;00m \u001b[39mStopIteration\u001b[39;00m()\n\u001b[0;32m     62\u001b[0m \u001b[39mif\u001b[39;00m \u001b[39mself\u001b[39m\u001b[39m.\u001b[39m_listing \u001b[39mis\u001b[39;00m \u001b[39mNone\u001b[39;00m \u001b[39mor\u001b[39;00m \u001b[39mself\u001b[39m\u001b[39m.\u001b[39m_list_index \u001b[39m>\u001b[39m\u001b[39m=\u001b[39m \u001b[39mlen\u001b[39m(\u001b[39mself\u001b[39m\u001b[39m.\u001b[39m_listing):\n\u001b[1;32m---> 63\u001b[0m     \u001b[39mself\u001b[39;49m\u001b[39m.\u001b[39;49m_next_batch()\n\u001b[0;32m     65\u001b[0m \u001b[39mself\u001b[39m\u001b[39m.\u001b[39m_list_index \u001b[39m+\u001b[39m\u001b[39m=\u001b[39m \u001b[39m1\u001b[39m\n\u001b[0;32m     66\u001b[0m \u001b[39mself\u001b[39m\u001b[39m.\u001b[39myielded \u001b[39m+\u001b[39m\u001b[39m=\u001b[39m \u001b[39m1\u001b[39m\n",
      "File \u001b[1;32mc:\\Users\\Rohan\\AppData\\Local\\Programs\\Python\\Python310\\lib\\site-packages\\praw\\models\\listing\\generator.py:89\u001b[0m, in \u001b[0;36mListingGenerator._next_batch\u001b[1;34m(self)\u001b[0m\n\u001b[0;32m     86\u001b[0m \u001b[39mif\u001b[39;00m \u001b[39mself\u001b[39m\u001b[39m.\u001b[39m_exhausted:\n\u001b[0;32m     87\u001b[0m     \u001b[39mraise\u001b[39;00m \u001b[39mStopIteration\u001b[39;00m()\n\u001b[1;32m---> 89\u001b[0m \u001b[39mself\u001b[39m\u001b[39m.\u001b[39m_listing \u001b[39m=\u001b[39m \u001b[39mself\u001b[39;49m\u001b[39m.\u001b[39;49m_reddit\u001b[39m.\u001b[39;49mget(\u001b[39mself\u001b[39;49m\u001b[39m.\u001b[39;49murl, params\u001b[39m=\u001b[39;49m\u001b[39mself\u001b[39;49m\u001b[39m.\u001b[39;49mparams)\n\u001b[0;32m     90\u001b[0m \u001b[39mself\u001b[39m\u001b[39m.\u001b[39m_listing \u001b[39m=\u001b[39m \u001b[39mself\u001b[39m\u001b[39m.\u001b[39m_extract_sublist(\u001b[39mself\u001b[39m\u001b[39m.\u001b[39m_listing)\n\u001b[0;32m     91\u001b[0m \u001b[39mself\u001b[39m\u001b[39m.\u001b[39m_list_index \u001b[39m=\u001b[39m \u001b[39m0\u001b[39m\n",
      "File \u001b[1;32mc:\\Users\\Rohan\\AppData\\Local\\Programs\\Python\\Python310\\lib\\site-packages\\praw\\util\\deprecate_args.py:43\u001b[0m, in \u001b[0;36m_deprecate_args.<locals>.wrapper.<locals>.wrapped\u001b[1;34m(*args, **kwargs)\u001b[0m\n\u001b[0;32m     36\u001b[0m     arg_string \u001b[39m=\u001b[39m _generate_arg_string(_old_args[: \u001b[39mlen\u001b[39m(args)])\n\u001b[0;32m     37\u001b[0m     warn(\n\u001b[0;32m     38\u001b[0m         \u001b[39mf\u001b[39m\u001b[39m\"\u001b[39m\u001b[39mPositional arguments for \u001b[39m\u001b[39m{\u001b[39;00mfunc\u001b[39m.\u001b[39m\u001b[39m__qualname__\u001b[39m\u001b[39m!r}\u001b[39;00m\u001b[39m will no longer be\u001b[39m\u001b[39m\"\u001b[39m\n\u001b[0;32m     39\u001b[0m         \u001b[39mf\u001b[39m\u001b[39m\"\u001b[39m\u001b[39m supported in PRAW 8.\u001b[39m\u001b[39m\\n\u001b[39;00m\u001b[39mCall this function with \u001b[39m\u001b[39m{\u001b[39;00marg_string\u001b[39m}\u001b[39;00m\u001b[39m.\u001b[39m\u001b[39m\"\u001b[39m,\n\u001b[0;32m     40\u001b[0m         \u001b[39mDeprecationWarning\u001b[39;00m,\n\u001b[0;32m     41\u001b[0m         stacklevel\u001b[39m=\u001b[39m\u001b[39m2\u001b[39m,\n\u001b[0;32m     42\u001b[0m     )\n\u001b[1;32m---> 43\u001b[0m \u001b[39mreturn\u001b[39;00m func(\u001b[39m*\u001b[39m\u001b[39m*\u001b[39m\u001b[39mdict\u001b[39m(\u001b[39mzip\u001b[39m(_old_args, args)), \u001b[39m*\u001b[39m\u001b[39m*\u001b[39mkwargs)\n",
      "File \u001b[1;32mc:\\Users\\Rohan\\AppData\\Local\\Programs\\Python\\Python310\\lib\\site-packages\\praw\\reddit.py:634\u001b[0m, in \u001b[0;36mReddit.get\u001b[1;34m(self, path, params)\u001b[0m\n\u001b[0;32m    621\u001b[0m \u001b[39m@_deprecate_args\u001b[39m(\u001b[39m\"\u001b[39m\u001b[39mpath\u001b[39m\u001b[39m\"\u001b[39m, \u001b[39m\"\u001b[39m\u001b[39mparams\u001b[39m\u001b[39m\"\u001b[39m)\n\u001b[0;32m    622\u001b[0m \u001b[39mdef\u001b[39;00m \u001b[39mget\u001b[39m(\n\u001b[0;32m    623\u001b[0m     \u001b[39mself\u001b[39m,\n\u001b[1;32m   (...)\u001b[0m\n\u001b[0;32m    626\u001b[0m     params: Optional[Union[\u001b[39mstr\u001b[39m, Dict[\u001b[39mstr\u001b[39m, Union[\u001b[39mstr\u001b[39m, \u001b[39mint\u001b[39m]]]] \u001b[39m=\u001b[39m \u001b[39mNone\u001b[39;00m,\n\u001b[0;32m    627\u001b[0m ):\n\u001b[0;32m    628\u001b[0m     \u001b[39m\"\"\"Return parsed objects returned from a GET request to ``path``.\u001b[39;00m\n\u001b[0;32m    629\u001b[0m \n\u001b[0;32m    630\u001b[0m \u001b[39m    :param path: The path to fetch.\u001b[39;00m\n\u001b[0;32m    631\u001b[0m \u001b[39m    :param params: The query parameters to add to the request (default: ``None``).\u001b[39;00m\n\u001b[0;32m    632\u001b[0m \n\u001b[0;32m    633\u001b[0m \u001b[39m    \"\"\"\u001b[39;00m\n\u001b[1;32m--> 634\u001b[0m     \u001b[39mreturn\u001b[39;00m \u001b[39mself\u001b[39;49m\u001b[39m.\u001b[39;49m_objectify_request(method\u001b[39m=\u001b[39;49m\u001b[39m\"\u001b[39;49m\u001b[39mGET\u001b[39;49m\u001b[39m\"\u001b[39;49m, params\u001b[39m=\u001b[39;49mparams, path\u001b[39m=\u001b[39;49mpath)\n",
      "File \u001b[1;32mc:\\Users\\Rohan\\AppData\\Local\\Programs\\Python\\Python310\\lib\\site-packages\\praw\\reddit.py:739\u001b[0m, in \u001b[0;36mReddit._objectify_request\u001b[1;34m(self, data, files, json, method, params, path)\u001b[0m\n\u001b[0;32m    713\u001b[0m \u001b[39mdef\u001b[39;00m \u001b[39m_objectify_request\u001b[39m(\n\u001b[0;32m    714\u001b[0m     \u001b[39mself\u001b[39m,\n\u001b[0;32m    715\u001b[0m     \u001b[39m*\u001b[39m,\n\u001b[1;32m   (...)\u001b[0m\n\u001b[0;32m    721\u001b[0m     path: \u001b[39mstr\u001b[39m \u001b[39m=\u001b[39m \u001b[39m\"\u001b[39m\u001b[39m\"\u001b[39m,\n\u001b[0;32m    722\u001b[0m ) \u001b[39m-\u001b[39m\u001b[39m>\u001b[39m Any:\n\u001b[0;32m    723\u001b[0m     \u001b[39m\"\"\"Run a request through the ``Objector``.\u001b[39;00m\n\u001b[0;32m    724\u001b[0m \n\u001b[0;32m    725\u001b[0m \u001b[39m    :param data: Dictionary, bytes, or file-like object to send in the body of the\u001b[39;00m\n\u001b[1;32m   (...)\u001b[0m\n\u001b[0;32m    736\u001b[0m \n\u001b[0;32m    737\u001b[0m \u001b[39m    \"\"\"\u001b[39;00m\n\u001b[0;32m    738\u001b[0m     \u001b[39mreturn\u001b[39;00m \u001b[39mself\u001b[39m\u001b[39m.\u001b[39m_objector\u001b[39m.\u001b[39mobjectify(\n\u001b[1;32m--> 739\u001b[0m         \u001b[39mself\u001b[39;49m\u001b[39m.\u001b[39;49mrequest(\n\u001b[0;32m    740\u001b[0m             data\u001b[39m=\u001b[39;49mdata,\n\u001b[0;32m    741\u001b[0m             files\u001b[39m=\u001b[39;49mfiles,\n\u001b[0;32m    742\u001b[0m             json\u001b[39m=\u001b[39;49mjson,\n\u001b[0;32m    743\u001b[0m             method\u001b[39m=\u001b[39;49mmethod,\n\u001b[0;32m    744\u001b[0m             params\u001b[39m=\u001b[39;49mparams,\n\u001b[0;32m    745\u001b[0m             path\u001b[39m=\u001b[39;49mpath,\n\u001b[0;32m    746\u001b[0m         )\n\u001b[0;32m    747\u001b[0m     )\n",
      "File \u001b[1;32mc:\\Users\\Rohan\\AppData\\Local\\Programs\\Python\\Python310\\lib\\site-packages\\praw\\util\\deprecate_args.py:43\u001b[0m, in \u001b[0;36m_deprecate_args.<locals>.wrapper.<locals>.wrapped\u001b[1;34m(*args, **kwargs)\u001b[0m\n\u001b[0;32m     36\u001b[0m     arg_string \u001b[39m=\u001b[39m _generate_arg_string(_old_args[: \u001b[39mlen\u001b[39m(args)])\n\u001b[0;32m     37\u001b[0m     warn(\n\u001b[0;32m     38\u001b[0m         \u001b[39mf\u001b[39m\u001b[39m\"\u001b[39m\u001b[39mPositional arguments for \u001b[39m\u001b[39m{\u001b[39;00mfunc\u001b[39m.\u001b[39m\u001b[39m__qualname__\u001b[39m\u001b[39m!r}\u001b[39;00m\u001b[39m will no longer be\u001b[39m\u001b[39m\"\u001b[39m\n\u001b[0;32m     39\u001b[0m         \u001b[39mf\u001b[39m\u001b[39m\"\u001b[39m\u001b[39m supported in PRAW 8.\u001b[39m\u001b[39m\\n\u001b[39;00m\u001b[39mCall this function with \u001b[39m\u001b[39m{\u001b[39;00marg_string\u001b[39m}\u001b[39;00m\u001b[39m.\u001b[39m\u001b[39m\"\u001b[39m,\n\u001b[0;32m     40\u001b[0m         \u001b[39mDeprecationWarning\u001b[39;00m,\n\u001b[0;32m     41\u001b[0m         stacklevel\u001b[39m=\u001b[39m\u001b[39m2\u001b[39m,\n\u001b[0;32m     42\u001b[0m     )\n\u001b[1;32m---> 43\u001b[0m \u001b[39mreturn\u001b[39;00m func(\u001b[39m*\u001b[39m\u001b[39m*\u001b[39m\u001b[39mdict\u001b[39m(\u001b[39mzip\u001b[39m(_old_args, args)), \u001b[39m*\u001b[39m\u001b[39m*\u001b[39mkwargs)\n",
      "File \u001b[1;32mc:\\Users\\Rohan\\AppData\\Local\\Programs\\Python\\Python310\\lib\\site-packages\\praw\\reddit.py:941\u001b[0m, in \u001b[0;36mReddit.request\u001b[1;34m(self, data, files, json, method, params, path)\u001b[0m\n\u001b[0;32m    939\u001b[0m     \u001b[39mraise\u001b[39;00m ClientException(\u001b[39m\"\u001b[39m\u001b[39mAt most one of \u001b[39m\u001b[39m'\u001b[39m\u001b[39mdata\u001b[39m\u001b[39m'\u001b[39m\u001b[39m or \u001b[39m\u001b[39m'\u001b[39m\u001b[39mjson\u001b[39m\u001b[39m'\u001b[39m\u001b[39m is supported.\u001b[39m\u001b[39m\"\u001b[39m)\n\u001b[0;32m    940\u001b[0m \u001b[39mtry\u001b[39;00m:\n\u001b[1;32m--> 941\u001b[0m     \u001b[39mreturn\u001b[39;00m \u001b[39mself\u001b[39;49m\u001b[39m.\u001b[39;49m_core\u001b[39m.\u001b[39;49mrequest(\n\u001b[0;32m    942\u001b[0m         data\u001b[39m=\u001b[39;49mdata,\n\u001b[0;32m    943\u001b[0m         files\u001b[39m=\u001b[39;49mfiles,\n\u001b[0;32m    944\u001b[0m         json\u001b[39m=\u001b[39;49mjson,\n\u001b[0;32m    945\u001b[0m         method\u001b[39m=\u001b[39;49mmethod,\n\u001b[0;32m    946\u001b[0m         params\u001b[39m=\u001b[39;49mparams,\n\u001b[0;32m    947\u001b[0m         path\u001b[39m=\u001b[39;49mpath,\n\u001b[0;32m    948\u001b[0m     )\n\u001b[0;32m    949\u001b[0m \u001b[39mexcept\u001b[39;00m BadRequest \u001b[39mas\u001b[39;00m exception:\n\u001b[0;32m    950\u001b[0m     \u001b[39mtry\u001b[39;00m:\n",
      "File \u001b[1;32mc:\\Users\\Rohan\\AppData\\Local\\Programs\\Python\\Python310\\lib\\site-packages\\prawcore\\sessions.py:330\u001b[0m, in \u001b[0;36mSession.request\u001b[1;34m(self, method, path, data, files, json, params, timeout)\u001b[0m\n\u001b[0;32m    328\u001b[0m     json[\u001b[39m\"\u001b[39m\u001b[39mapi_type\u001b[39m\u001b[39m\"\u001b[39m] \u001b[39m=\u001b[39m \u001b[39m\"\u001b[39m\u001b[39mjson\u001b[39m\u001b[39m\"\u001b[39m\n\u001b[0;32m    329\u001b[0m url \u001b[39m=\u001b[39m urljoin(\u001b[39mself\u001b[39m\u001b[39m.\u001b[39m_requestor\u001b[39m.\u001b[39moauth_url, path)\n\u001b[1;32m--> 330\u001b[0m \u001b[39mreturn\u001b[39;00m \u001b[39mself\u001b[39;49m\u001b[39m.\u001b[39;49m_request_with_retries(\n\u001b[0;32m    331\u001b[0m     data\u001b[39m=\u001b[39;49mdata,\n\u001b[0;32m    332\u001b[0m     files\u001b[39m=\u001b[39;49mfiles,\n\u001b[0;32m    333\u001b[0m     json\u001b[39m=\u001b[39;49mjson,\n\u001b[0;32m    334\u001b[0m     method\u001b[39m=\u001b[39;49mmethod,\n\u001b[0;32m    335\u001b[0m     params\u001b[39m=\u001b[39;49mparams,\n\u001b[0;32m    336\u001b[0m     timeout\u001b[39m=\u001b[39;49mtimeout,\n\u001b[0;32m    337\u001b[0m     url\u001b[39m=\u001b[39;49murl,\n\u001b[0;32m    338\u001b[0m )\n",
      "File \u001b[1;32mc:\\Users\\Rohan\\AppData\\Local\\Programs\\Python\\Python310\\lib\\site-packages\\prawcore\\sessions.py:228\u001b[0m, in \u001b[0;36mSession._request_with_retries\u001b[1;34m(self, data, files, json, method, params, timeout, url, retry_strategy_state)\u001b[0m\n\u001b[0;32m    226\u001b[0m retry_strategy_state\u001b[39m.\u001b[39msleep()\n\u001b[0;32m    227\u001b[0m \u001b[39mself\u001b[39m\u001b[39m.\u001b[39m_log_request(data, method, params, url)\n\u001b[1;32m--> 228\u001b[0m response, saved_exception \u001b[39m=\u001b[39m \u001b[39mself\u001b[39;49m\u001b[39m.\u001b[39;49m_make_request(\n\u001b[0;32m    229\u001b[0m     data,\n\u001b[0;32m    230\u001b[0m     files,\n\u001b[0;32m    231\u001b[0m     json,\n\u001b[0;32m    232\u001b[0m     method,\n\u001b[0;32m    233\u001b[0m     params,\n\u001b[0;32m    234\u001b[0m     retry_strategy_state,\n\u001b[0;32m    235\u001b[0m     timeout,\n\u001b[0;32m    236\u001b[0m     url,\n\u001b[0;32m    237\u001b[0m )\n\u001b[0;32m    239\u001b[0m do_retry \u001b[39m=\u001b[39m \u001b[39mFalse\u001b[39;00m\n\u001b[0;32m    240\u001b[0m \u001b[39mif\u001b[39;00m (\n\u001b[0;32m    241\u001b[0m     response \u001b[39mis\u001b[39;00m \u001b[39mnot\u001b[39;00m \u001b[39mNone\u001b[39;00m\n\u001b[0;32m    242\u001b[0m     \u001b[39mand\u001b[39;00m response\u001b[39m.\u001b[39mstatus_code \u001b[39m==\u001b[39m codes[\u001b[39m\"\u001b[39m\u001b[39munauthorized\u001b[39m\u001b[39m\"\u001b[39m]\n\u001b[0;32m    243\u001b[0m ):\n",
      "File \u001b[1;32mc:\\Users\\Rohan\\AppData\\Local\\Programs\\Python\\Python310\\lib\\site-packages\\prawcore\\sessions.py:185\u001b[0m, in \u001b[0;36mSession._make_request\u001b[1;34m(self, data, files, json, method, params, retry_strategy_state, timeout, url)\u001b[0m\n\u001b[0;32m    173\u001b[0m \u001b[39mdef\u001b[39;00m \u001b[39m_make_request\u001b[39m(\n\u001b[0;32m    174\u001b[0m     \u001b[39mself\u001b[39m,\n\u001b[0;32m    175\u001b[0m     data,\n\u001b[1;32m   (...)\u001b[0m\n\u001b[0;32m    182\u001b[0m     url,\n\u001b[0;32m    183\u001b[0m ):\n\u001b[0;32m    184\u001b[0m     \u001b[39mtry\u001b[39;00m:\n\u001b[1;32m--> 185\u001b[0m         response \u001b[39m=\u001b[39m \u001b[39mself\u001b[39;49m\u001b[39m.\u001b[39;49m_rate_limiter\u001b[39m.\u001b[39;49mcall(\n\u001b[0;32m    186\u001b[0m             \u001b[39mself\u001b[39;49m\u001b[39m.\u001b[39;49m_requestor\u001b[39m.\u001b[39;49mrequest,\n\u001b[0;32m    187\u001b[0m             \u001b[39mself\u001b[39;49m\u001b[39m.\u001b[39;49m_set_header_callback,\n\u001b[0;32m    188\u001b[0m             method,\n\u001b[0;32m    189\u001b[0m             url,\n\u001b[0;32m    190\u001b[0m             allow_redirects\u001b[39m=\u001b[39;49m\u001b[39mFalse\u001b[39;49;00m,\n\u001b[0;32m    191\u001b[0m             data\u001b[39m=\u001b[39;49mdata,\n\u001b[0;32m    192\u001b[0m             files\u001b[39m=\u001b[39;49mfiles,\n\u001b[0;32m    193\u001b[0m             json\u001b[39m=\u001b[39;49mjson,\n\u001b[0;32m    194\u001b[0m             params\u001b[39m=\u001b[39;49mparams,\n\u001b[0;32m    195\u001b[0m             timeout\u001b[39m=\u001b[39;49mtimeout,\n\u001b[0;32m    196\u001b[0m         )\n\u001b[0;32m    197\u001b[0m         log\u001b[39m.\u001b[39mdebug(\n\u001b[0;32m    198\u001b[0m             \u001b[39mf\u001b[39m\u001b[39m\"\u001b[39m\u001b[39mResponse: \u001b[39m\u001b[39m{\u001b[39;00mresponse\u001b[39m.\u001b[39mstatus_code\u001b[39m}\u001b[39;00m\u001b[39m\"\u001b[39m\n\u001b[0;32m    199\u001b[0m             \u001b[39mf\u001b[39m\u001b[39m\"\u001b[39m\u001b[39m (\u001b[39m\u001b[39m{\u001b[39;00mresponse\u001b[39m.\u001b[39mheaders\u001b[39m.\u001b[39mget(\u001b[39m'\u001b[39m\u001b[39mcontent-length\u001b[39m\u001b[39m'\u001b[39m)\u001b[39m}\u001b[39;00m\u001b[39m bytes)\u001b[39m\u001b[39m\"\u001b[39m\n\u001b[0;32m    200\u001b[0m         )\n\u001b[0;32m    201\u001b[0m         \u001b[39mreturn\u001b[39;00m response, \u001b[39mNone\u001b[39;00m\n",
      "File \u001b[1;32mc:\\Users\\Rohan\\AppData\\Local\\Programs\\Python\\Python310\\lib\\site-packages\\prawcore\\rate_limit.py:32\u001b[0m, in \u001b[0;36mRateLimiter.call\u001b[1;34m(self, request_function, set_header_callback, *args, **kwargs)\u001b[0m\n\u001b[0;32m     22\u001b[0m \u001b[39mdef\u001b[39;00m \u001b[39mcall\u001b[39m(\u001b[39mself\u001b[39m, request_function, set_header_callback, \u001b[39m*\u001b[39margs, \u001b[39m*\u001b[39m\u001b[39m*\u001b[39mkwargs):\n\u001b[0;32m     23\u001b[0m     \u001b[39m\"\"\"Rate limit the call to request_function.\u001b[39;00m\n\u001b[0;32m     24\u001b[0m \n\u001b[0;32m     25\u001b[0m \u001b[39m    :param request_function: A function call that returns an HTTP response object.\u001b[39;00m\n\u001b[1;32m   (...)\u001b[0m\n\u001b[0;32m     30\u001b[0m \n\u001b[0;32m     31\u001b[0m \u001b[39m    \"\"\"\u001b[39;00m\n\u001b[1;32m---> 32\u001b[0m     \u001b[39mself\u001b[39;49m\u001b[39m.\u001b[39;49mdelay()\n\u001b[0;32m     33\u001b[0m     kwargs[\u001b[39m\"\u001b[39m\u001b[39mheaders\u001b[39m\u001b[39m\"\u001b[39m] \u001b[39m=\u001b[39m set_header_callback()\n\u001b[0;32m     34\u001b[0m     response \u001b[39m=\u001b[39m request_function(\u001b[39m*\u001b[39margs, \u001b[39m*\u001b[39m\u001b[39m*\u001b[39mkwargs)\n",
      "File \u001b[1;32mc:\\Users\\Rohan\\AppData\\Local\\Programs\\Python\\Python310\\lib\\site-packages\\prawcore\\rate_limit.py:47\u001b[0m, in \u001b[0;36mRateLimiter.delay\u001b[1;34m(self)\u001b[0m\n\u001b[0;32m     45\u001b[0m message \u001b[39m=\u001b[39m \u001b[39mf\u001b[39m\u001b[39m\"\u001b[39m\u001b[39mSleeping: \u001b[39m\u001b[39m{\u001b[39;00msleep_seconds\u001b[39m:\u001b[39;00m\u001b[39m0.2f\u001b[39m\u001b[39m}\u001b[39;00m\u001b[39m seconds prior to call\u001b[39m\u001b[39m\"\u001b[39m\n\u001b[0;32m     46\u001b[0m log\u001b[39m.\u001b[39mdebug(message)\n\u001b[1;32m---> 47\u001b[0m time\u001b[39m.\u001b[39;49msleep(sleep_seconds)\n",
      "\u001b[1;31mKeyboardInterrupt\u001b[0m: "
     ]
    }
   ],
   "source": [
    "import praw\n",
    "import pandas as pd\n",
    "import numpy as np\n",
    "import neattext.functions as nfx\n",
    "from nltk.stem import PorterStemmer\n",
    "from gensim.models import Word2Vec\n",
    "import pickle\n",
    "from happytransformer import HappyTextClassification\n",
    " \n",
    "reddit = praw.Reddit(client_id=\"RUNFMxCvkRQbLLMplJgulQ\",         # your client id\n",
    "                               client_secret=\"wo2zPauYdyWOQLbTed-1ceYx60mrnA\",      # your client secret\n",
    "                               user_agent=\"Suicide Detection\")        # your user agent\n",
    " \n",
    "old = None\n",
    "\n",
    "while KeyboardInterrupt:\n",
    "    submission = [i for i in reddit.subreddit('SuicideWatch').new(limit = 2)][0]\n",
    "\n",
    "    if submission != old:\n",
    "        sent = submission.title + ' ' + submission.selftext\n",
    "        # Pre processing\n",
    "        sent=sent.lower()\n",
    "        sent=nfx.remove_special_characters(sent)\n",
    "        sent=nfx.remove_stopwords(sent)\n",
    "\n",
    "        porter = PorterStemmer()\n",
    "        stemmed = ''\n",
    "        for word in sent.split():\n",
    "            stemmed =  stemmed + ' ' + porter.stem(word)\n",
    "\n",
    "        sent = stemmed.strip()\n",
    "        #Stemming is same\n",
    "        w2v_model = Word2Vec.load(\"w2v_model.model\")\n",
    "        words = set(w2v_model.wv.index_to_key)\n",
    "        vector = []\n",
    "        for word in sent:\n",
    "            if word in words:\n",
    "                vector.append(w2v_model.wv[word])\n",
    "        vector = np.array(vector)\n",
    "        if vector.size:\n",
    "            vect_avg = vector.mean(axis=0)\n",
    "        else:\n",
    "            vect_avg = np.zeros(50, dtype=float)\n",
    "        \n",
    "        RF_file = \"model_MLP.sav\"\n",
    "        RF_model = pickle.load(open(RF_file, 'rb'))\n",
    "        prediction = RF_model.predict([vect_avg])\n",
    "        print(submission.author)\n",
    "        print(submission.title)\n",
    "        print(prediction)\n",
    "        if prediction[0] == 1:\n",
    "            happy_tc = HappyTextClassification(model_type=\"DISTILBERT\", model_name=\"distilbert-base-uncased-finetuned-sst-2-english\", num_labels=2)\n",
    "            result = happy_tc.classify_text(sent)\n",
    "\n",
    "            print(result.score)\n",
    "        \n",
    "        old = submission\n",
    "    else:\n",
    "        pass"
   ]
  }
 ],
 "metadata": {
  "kernelspec": {
   "display_name": "Python 3.10.7 64-bit",
   "language": "python",
   "name": "python3"
  },
  "language_info": {
   "codemirror_mode": {
    "name": "ipython",
    "version": 3
   },
   "file_extension": ".py",
   "mimetype": "text/x-python",
   "name": "python",
   "nbconvert_exporter": "python",
   "pygments_lexer": "ipython3",
   "version": "3.10.7"
  },
  "vscode": {
   "interpreter": {
    "hash": "171297e6988badb5fc12d8ad1132fd3fbce21d89ce466d6887d0f58c05583363"
   }
  }
 },
 "nbformat": 4,
 "nbformat_minor": 5
}
